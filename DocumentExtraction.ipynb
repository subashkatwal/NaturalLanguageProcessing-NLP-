{
  "nbformat": 4,
  "nbformat_minor": 0,
  "metadata": {
    "colab": {
      "provenance": [],
      "authorship_tag": "ABX9TyM4BZLN6VCsjCNU9tkZBMrj",
      "include_colab_link": true
    },
    "kernelspec": {
      "name": "python3",
      "display_name": "Python 3"
    },
    "language_info": {
      "name": "python"
    }
  },
  "cells": [
    {
      "cell_type": "markdown",
      "metadata": {
        "id": "view-in-github",
        "colab_type": "text"
      },
      "source": [
        "<a href=\"https://colab.research.google.com/github/subashkatwal/NaturalLanguageProcessing-NLP-/blob/main/DocumentExtraction.ipynb\" target=\"_parent\"><img src=\"https://colab.research.google.com/assets/colab-badge.svg\" alt=\"Open In Colab\"/></a>"
      ]
    },
    {
      "cell_type": "code",
      "execution_count": null,
      "metadata": {
        "id": "bZrlT8ovzOtI"
      },
      "outputs": [],
      "source": [
        "!pip install docquery"
      ]
    },
    {
      "cell_type": "markdown",
      "source": [
        "Installing OCR\n"
      ],
      "metadata": {
        "id": "qpWbq9c8zzg9"
      }
    },
    {
      "cell_type": "code",
      "source": [
        "!apt install tesseract-ocr"
      ],
      "metadata": {
        "id": "I5iWYzU_zUyw"
      },
      "execution_count": null,
      "outputs": []
    },
    {
      "cell_type": "code",
      "source": [
        "!apt install tesseract-ocr\n"
      ],
      "metadata": {
        "id": "ROlawNQQ0HvR"
      },
      "execution_count": null,
      "outputs": []
    },
    {
      "cell_type": "code",
      "source": [
        "!docquery scan \"What is the invoice number ? \" /doc.jfif"
      ],
      "metadata": {
        "id": "1myae6Nr0cER"
      },
      "execution_count": null,
      "outputs": []
    },
    {
      "cell_type": "code",
      "source": [
        "pip install pytesseract pillow spacy\n"
      ],
      "metadata": {
        "id": "0iUcoJ-h1K4t"
      },
      "execution_count": null,
      "outputs": []
    },
    {
      "cell_type": "code",
      "source": [
        "!pip install pytesseract pillow spacy\n",
        "!apt-get install tesseract-ocr\n",
        "!python -m spacy download en_core_web_sm"
      ],
      "metadata": {
        "id": "eCg8HVcX2DhB"
      },
      "execution_count": null,
      "outputs": []
    },
    {
      "cell_type": "code",
      "source": [
        "from google.colab import files\n",
        "uploaded= files.upload()"
      ],
      "metadata": {
        "colab": {
          "base_uri": "https://localhost:8080/",
          "height": 74
        },
        "id": "GVLGLXip2RAY",
        "outputId": "fd3df574-c12c-4323-901c-16abab6457ce"
      },
      "execution_count": 113,
      "outputs": [
        {
          "output_type": "display_data",
          "data": {
            "text/plain": [
              "<IPython.core.display.HTML object>"
            ],
            "text/html": [
              "\n",
              "     <input type=\"file\" id=\"files-34f9d439-c40a-4580-9e2f-2c8e55c30563\" name=\"files[]\" multiple disabled\n",
              "        style=\"border:none\" />\n",
              "     <output id=\"result-34f9d439-c40a-4580-9e2f-2c8e55c30563\">\n",
              "      Upload widget is only available when the cell has been executed in the\n",
              "      current browser session. Please rerun this cell to enable.\n",
              "      </output>\n",
              "      <script>// Copyright 2017 Google LLC\n",
              "//\n",
              "// Licensed under the Apache License, Version 2.0 (the \"License\");\n",
              "// you may not use this file except in compliance with the License.\n",
              "// You may obtain a copy of the License at\n",
              "//\n",
              "//      http://www.apache.org/licenses/LICENSE-2.0\n",
              "//\n",
              "// Unless required by applicable law or agreed to in writing, software\n",
              "// distributed under the License is distributed on an \"AS IS\" BASIS,\n",
              "// WITHOUT WARRANTIES OR CONDITIONS OF ANY KIND, either express or implied.\n",
              "// See the License for the specific language governing permissions and\n",
              "// limitations under the License.\n",
              "\n",
              "/**\n",
              " * @fileoverview Helpers for google.colab Python module.\n",
              " */\n",
              "(function(scope) {\n",
              "function span(text, styleAttributes = {}) {\n",
              "  const element = document.createElement('span');\n",
              "  element.textContent = text;\n",
              "  for (const key of Object.keys(styleAttributes)) {\n",
              "    element.style[key] = styleAttributes[key];\n",
              "  }\n",
              "  return element;\n",
              "}\n",
              "\n",
              "// Max number of bytes which will be uploaded at a time.\n",
              "const MAX_PAYLOAD_SIZE = 100 * 1024;\n",
              "\n",
              "function _uploadFiles(inputId, outputId) {\n",
              "  const steps = uploadFilesStep(inputId, outputId);\n",
              "  const outputElement = document.getElementById(outputId);\n",
              "  // Cache steps on the outputElement to make it available for the next call\n",
              "  // to uploadFilesContinue from Python.\n",
              "  outputElement.steps = steps;\n",
              "\n",
              "  return _uploadFilesContinue(outputId);\n",
              "}\n",
              "\n",
              "// This is roughly an async generator (not supported in the browser yet),\n",
              "// where there are multiple asynchronous steps and the Python side is going\n",
              "// to poll for completion of each step.\n",
              "// This uses a Promise to block the python side on completion of each step,\n",
              "// then passes the result of the previous step as the input to the next step.\n",
              "function _uploadFilesContinue(outputId) {\n",
              "  const outputElement = document.getElementById(outputId);\n",
              "  const steps = outputElement.steps;\n",
              "\n",
              "  const next = steps.next(outputElement.lastPromiseValue);\n",
              "  return Promise.resolve(next.value.promise).then((value) => {\n",
              "    // Cache the last promise value to make it available to the next\n",
              "    // step of the generator.\n",
              "    outputElement.lastPromiseValue = value;\n",
              "    return next.value.response;\n",
              "  });\n",
              "}\n",
              "\n",
              "/**\n",
              " * Generator function which is called between each async step of the upload\n",
              " * process.\n",
              " * @param {string} inputId Element ID of the input file picker element.\n",
              " * @param {string} outputId Element ID of the output display.\n",
              " * @return {!Iterable<!Object>} Iterable of next steps.\n",
              " */\n",
              "function* uploadFilesStep(inputId, outputId) {\n",
              "  const inputElement = document.getElementById(inputId);\n",
              "  inputElement.disabled = false;\n",
              "\n",
              "  const outputElement = document.getElementById(outputId);\n",
              "  outputElement.innerHTML = '';\n",
              "\n",
              "  const pickedPromise = new Promise((resolve) => {\n",
              "    inputElement.addEventListener('change', (e) => {\n",
              "      resolve(e.target.files);\n",
              "    });\n",
              "  });\n",
              "\n",
              "  const cancel = document.createElement('button');\n",
              "  inputElement.parentElement.appendChild(cancel);\n",
              "  cancel.textContent = 'Cancel upload';\n",
              "  const cancelPromise = new Promise((resolve) => {\n",
              "    cancel.onclick = () => {\n",
              "      resolve(null);\n",
              "    };\n",
              "  });\n",
              "\n",
              "  // Wait for the user to pick the files.\n",
              "  const files = yield {\n",
              "    promise: Promise.race([pickedPromise, cancelPromise]),\n",
              "    response: {\n",
              "      action: 'starting',\n",
              "    }\n",
              "  };\n",
              "\n",
              "  cancel.remove();\n",
              "\n",
              "  // Disable the input element since further picks are not allowed.\n",
              "  inputElement.disabled = true;\n",
              "\n",
              "  if (!files) {\n",
              "    return {\n",
              "      response: {\n",
              "        action: 'complete',\n",
              "      }\n",
              "    };\n",
              "  }\n",
              "\n",
              "  for (const file of files) {\n",
              "    const li = document.createElement('li');\n",
              "    li.append(span(file.name, {fontWeight: 'bold'}));\n",
              "    li.append(span(\n",
              "        `(${file.type || 'n/a'}) - ${file.size} bytes, ` +\n",
              "        `last modified: ${\n",
              "            file.lastModifiedDate ? file.lastModifiedDate.toLocaleDateString() :\n",
              "                                    'n/a'} - `));\n",
              "    const percent = span('0% done');\n",
              "    li.appendChild(percent);\n",
              "\n",
              "    outputElement.appendChild(li);\n",
              "\n",
              "    const fileDataPromise = new Promise((resolve) => {\n",
              "      const reader = new FileReader();\n",
              "      reader.onload = (e) => {\n",
              "        resolve(e.target.result);\n",
              "      };\n",
              "      reader.readAsArrayBuffer(file);\n",
              "    });\n",
              "    // Wait for the data to be ready.\n",
              "    let fileData = yield {\n",
              "      promise: fileDataPromise,\n",
              "      response: {\n",
              "        action: 'continue',\n",
              "      }\n",
              "    };\n",
              "\n",
              "    // Use a chunked sending to avoid message size limits. See b/62115660.\n",
              "    let position = 0;\n",
              "    do {\n",
              "      const length = Math.min(fileData.byteLength - position, MAX_PAYLOAD_SIZE);\n",
              "      const chunk = new Uint8Array(fileData, position, length);\n",
              "      position += length;\n",
              "\n",
              "      const base64 = btoa(String.fromCharCode.apply(null, chunk));\n",
              "      yield {\n",
              "        response: {\n",
              "          action: 'append',\n",
              "          file: file.name,\n",
              "          data: base64,\n",
              "        },\n",
              "      };\n",
              "\n",
              "      let percentDone = fileData.byteLength === 0 ?\n",
              "          100 :\n",
              "          Math.round((position / fileData.byteLength) * 100);\n",
              "      percent.textContent = `${percentDone}% done`;\n",
              "\n",
              "    } while (position < fileData.byteLength);\n",
              "  }\n",
              "\n",
              "  // All done.\n",
              "  yield {\n",
              "    response: {\n",
              "      action: 'complete',\n",
              "    }\n",
              "  };\n",
              "}\n",
              "\n",
              "scope.google = scope.google || {};\n",
              "scope.google.colab = scope.google.colab || {};\n",
              "scope.google.colab._files = {\n",
              "  _uploadFiles,\n",
              "  _uploadFilesContinue,\n",
              "};\n",
              "})(self);\n",
              "</script> "
            ]
          },
          "metadata": {}
        },
        {
          "output_type": "stream",
          "name": "stdout",
          "text": [
            "Saving in.png to in (2).png\n"
          ]
        }
      ]
    },
    {
      "cell_type": "markdown",
      "source": [
        "PIL is python Imaging Library pytesseract is                             \n",
        "\n",
        "\n",
        "BytesIo is a class from python io module that provides the in-memeiry binary stream.useful when you want to handle the binary data as if it were a file but without needing to write to or read from actual file on disk"
      ],
      "metadata": {
        "id": "bjK6QrW830B8"
      }
    },
    {
      "cell_type": "code",
      "source": [
        "from PIL import Image\n",
        "import pytesseract\n",
        "import spacy\n",
        "from io import BytesIO\n",
        "import re"
      ],
      "metadata": {
        "id": "RLpt14Xt2c1H"
      },
      "execution_count": null,
      "outputs": []
    },
    {
      "cell_type": "code",
      "source": [
        "nlp=spacy.load(\"en_core_web_sm\")"
      ],
      "metadata": {
        "id": "238ehdFR24PF"
      },
      "execution_count": null,
      "outputs": []
    },
    {
      "cell_type": "code",
      "source": [
        "def ocr_image(image_file):\n",
        "  img= Image.open(BytesIO(image_file))\n",
        "  text=pytesseract.image_to_string(img)\n",
        "  return text"
      ],
      "metadata": {
        "id": "EzTxr71b3BN-"
      },
      "execution_count": null,
      "outputs": []
    },
    {
      "cell_type": "markdown",
      "source": [
        "Invoice number"
      ],
      "metadata": {
        "id": "EdhVor9Cav6t"
      }
    },
    {
      "cell_type": "code",
      "source": [
        "\n",
        "def find_invoice_number(text):\n",
        "  doc=nlp(text)\n",
        "\n",
        "  invoice_patterns = [\n",
        "        r'\\binvoice\\s*number\\s*[:\\-]?\\s*(\\d+)\\b',\n",
        "        r'\\binvoice\\s*no\\s*[:\\-]?\\s*(\\d+)\\b',\n",
        "        r'\\binvoice\\s*#\\s*(\\d+)\\b',\n",
        "        r'\\b(\\d{6,})\\b'  # Catch long sequences of digits which could be invoice numbers\n",
        "    ]\n",
        "\n",
        "  for pattern in invoice_patterns:\n",
        "    match =re.search(pattern,text,re.IGNORECASE)\n",
        "\n",
        "    if match:\n",
        "      return match.group(1)\n",
        "\n",
        "    for ent in doc.ents:\n",
        "        if ent.label_ in ['DATE']:\n",
        "            return ent.text.strip()\n",
        "\n",
        "  return \"Invoice number not found\"\n",
        "\n"
      ],
      "metadata": {
        "id": "MWzVQlMh3W7h"
      },
      "execution_count": 190,
      "outputs": []
    },
    {
      "cell_type": "markdown",
      "source": [
        "Total Bill amount"
      ],
      "metadata": {
        "id": "lXPdbJa8ar6T"
      }
    },
    {
      "cell_type": "code",
      "source": [
        "#for finding total bill\n",
        "def find_total_bill(image_file):\n",
        "  doc=nlp(text)\n",
        "\n",
        "  total_patterns=[\n",
        "           r'\\bTotal\\s*[\\$€£₹]?\\s*([\\d,]+\\.\\d{2})\\b',\n",
        "        r'\\b([\\d,]+\\.\\d{2})\\b'\n",
        "\n",
        "  ]\n",
        "\n",
        "  for pattern in total_patterns:\n",
        "    match= re.search(pattern,text,re.IGNORECASE)\n",
        "    if match:\n",
        "      return match.group(1)\n",
        "\n",
        "  # for ent in ent.docs:\n",
        "  #   if 'amount' in ent.text.lower():\n",
        "  #     total_match= re.search(pattern,text,re.IGNORECASE)\n",
        "  #     if total_match:\n",
        "  #       return number_match.group()\n",
        "\n",
        "  return \"Total amount not found\""
      ],
      "metadata": {
        "id": "X6na9PLvaq7e"
      },
      "execution_count": 191,
      "outputs": []
    },
    {
      "cell_type": "markdown",
      "source": [
        "File Upload"
      ],
      "metadata": {
        "id": "yUUx52bOazzv"
      }
    },
    {
      "cell_type": "code",
      "source": [
        "uploaded=files.upload()\n"
      ],
      "metadata": {
        "colab": {
          "base_uri": "https://localhost:8080/",
          "height": 74
        },
        "id": "Cf__7HgK6Ohq",
        "outputId": "5efe080b-b4bc-407d-d985-2d28df586213"
      },
      "execution_count": 125,
      "outputs": [
        {
          "output_type": "display_data",
          "data": {
            "text/plain": [
              "<IPython.core.display.HTML object>"
            ],
            "text/html": [
              "\n",
              "     <input type=\"file\" id=\"files-30d3eafa-64f3-4801-803c-0b7aa039ba2e\" name=\"files[]\" multiple disabled\n",
              "        style=\"border:none\" />\n",
              "     <output id=\"result-30d3eafa-64f3-4801-803c-0b7aa039ba2e\">\n",
              "      Upload widget is only available when the cell has been executed in the\n",
              "      current browser session. Please rerun this cell to enable.\n",
              "      </output>\n",
              "      <script>// Copyright 2017 Google LLC\n",
              "//\n",
              "// Licensed under the Apache License, Version 2.0 (the \"License\");\n",
              "// you may not use this file except in compliance with the License.\n",
              "// You may obtain a copy of the License at\n",
              "//\n",
              "//      http://www.apache.org/licenses/LICENSE-2.0\n",
              "//\n",
              "// Unless required by applicable law or agreed to in writing, software\n",
              "// distributed under the License is distributed on an \"AS IS\" BASIS,\n",
              "// WITHOUT WARRANTIES OR CONDITIONS OF ANY KIND, either express or implied.\n",
              "// See the License for the specific language governing permissions and\n",
              "// limitations under the License.\n",
              "\n",
              "/**\n",
              " * @fileoverview Helpers for google.colab Python module.\n",
              " */\n",
              "(function(scope) {\n",
              "function span(text, styleAttributes = {}) {\n",
              "  const element = document.createElement('span');\n",
              "  element.textContent = text;\n",
              "  for (const key of Object.keys(styleAttributes)) {\n",
              "    element.style[key] = styleAttributes[key];\n",
              "  }\n",
              "  return element;\n",
              "}\n",
              "\n",
              "// Max number of bytes which will be uploaded at a time.\n",
              "const MAX_PAYLOAD_SIZE = 100 * 1024;\n",
              "\n",
              "function _uploadFiles(inputId, outputId) {\n",
              "  const steps = uploadFilesStep(inputId, outputId);\n",
              "  const outputElement = document.getElementById(outputId);\n",
              "  // Cache steps on the outputElement to make it available for the next call\n",
              "  // to uploadFilesContinue from Python.\n",
              "  outputElement.steps = steps;\n",
              "\n",
              "  return _uploadFilesContinue(outputId);\n",
              "}\n",
              "\n",
              "// This is roughly an async generator (not supported in the browser yet),\n",
              "// where there are multiple asynchronous steps and the Python side is going\n",
              "// to poll for completion of each step.\n",
              "// This uses a Promise to block the python side on completion of each step,\n",
              "// then passes the result of the previous step as the input to the next step.\n",
              "function _uploadFilesContinue(outputId) {\n",
              "  const outputElement = document.getElementById(outputId);\n",
              "  const steps = outputElement.steps;\n",
              "\n",
              "  const next = steps.next(outputElement.lastPromiseValue);\n",
              "  return Promise.resolve(next.value.promise).then((value) => {\n",
              "    // Cache the last promise value to make it available to the next\n",
              "    // step of the generator.\n",
              "    outputElement.lastPromiseValue = value;\n",
              "    return next.value.response;\n",
              "  });\n",
              "}\n",
              "\n",
              "/**\n",
              " * Generator function which is called between each async step of the upload\n",
              " * process.\n",
              " * @param {string} inputId Element ID of the input file picker element.\n",
              " * @param {string} outputId Element ID of the output display.\n",
              " * @return {!Iterable<!Object>} Iterable of next steps.\n",
              " */\n",
              "function* uploadFilesStep(inputId, outputId) {\n",
              "  const inputElement = document.getElementById(inputId);\n",
              "  inputElement.disabled = false;\n",
              "\n",
              "  const outputElement = document.getElementById(outputId);\n",
              "  outputElement.innerHTML = '';\n",
              "\n",
              "  const pickedPromise = new Promise((resolve) => {\n",
              "    inputElement.addEventListener('change', (e) => {\n",
              "      resolve(e.target.files);\n",
              "    });\n",
              "  });\n",
              "\n",
              "  const cancel = document.createElement('button');\n",
              "  inputElement.parentElement.appendChild(cancel);\n",
              "  cancel.textContent = 'Cancel upload';\n",
              "  const cancelPromise = new Promise((resolve) => {\n",
              "    cancel.onclick = () => {\n",
              "      resolve(null);\n",
              "    };\n",
              "  });\n",
              "\n",
              "  // Wait for the user to pick the files.\n",
              "  const files = yield {\n",
              "    promise: Promise.race([pickedPromise, cancelPromise]),\n",
              "    response: {\n",
              "      action: 'starting',\n",
              "    }\n",
              "  };\n",
              "\n",
              "  cancel.remove();\n",
              "\n",
              "  // Disable the input element since further picks are not allowed.\n",
              "  inputElement.disabled = true;\n",
              "\n",
              "  if (!files) {\n",
              "    return {\n",
              "      response: {\n",
              "        action: 'complete',\n",
              "      }\n",
              "    };\n",
              "  }\n",
              "\n",
              "  for (const file of files) {\n",
              "    const li = document.createElement('li');\n",
              "    li.append(span(file.name, {fontWeight: 'bold'}));\n",
              "    li.append(span(\n",
              "        `(${file.type || 'n/a'}) - ${file.size} bytes, ` +\n",
              "        `last modified: ${\n",
              "            file.lastModifiedDate ? file.lastModifiedDate.toLocaleDateString() :\n",
              "                                    'n/a'} - `));\n",
              "    const percent = span('0% done');\n",
              "    li.appendChild(percent);\n",
              "\n",
              "    outputElement.appendChild(li);\n",
              "\n",
              "    const fileDataPromise = new Promise((resolve) => {\n",
              "      const reader = new FileReader();\n",
              "      reader.onload = (e) => {\n",
              "        resolve(e.target.result);\n",
              "      };\n",
              "      reader.readAsArrayBuffer(file);\n",
              "    });\n",
              "    // Wait for the data to be ready.\n",
              "    let fileData = yield {\n",
              "      promise: fileDataPromise,\n",
              "      response: {\n",
              "        action: 'continue',\n",
              "      }\n",
              "    };\n",
              "\n",
              "    // Use a chunked sending to avoid message size limits. See b/62115660.\n",
              "    let position = 0;\n",
              "    do {\n",
              "      const length = Math.min(fileData.byteLength - position, MAX_PAYLOAD_SIZE);\n",
              "      const chunk = new Uint8Array(fileData, position, length);\n",
              "      position += length;\n",
              "\n",
              "      const base64 = btoa(String.fromCharCode.apply(null, chunk));\n",
              "      yield {\n",
              "        response: {\n",
              "          action: 'append',\n",
              "          file: file.name,\n",
              "          data: base64,\n",
              "        },\n",
              "      };\n",
              "\n",
              "      let percentDone = fileData.byteLength === 0 ?\n",
              "          100 :\n",
              "          Math.round((position / fileData.byteLength) * 100);\n",
              "      percent.textContent = `${percentDone}% done`;\n",
              "\n",
              "    } while (position < fileData.byteLength);\n",
              "  }\n",
              "\n",
              "  // All done.\n",
              "  yield {\n",
              "    response: {\n",
              "      action: 'complete',\n",
              "    }\n",
              "  };\n",
              "}\n",
              "\n",
              "scope.google = scope.google || {};\n",
              "scope.google.colab = scope.google.colab || {};\n",
              "scope.google.colab._files = {\n",
              "  _uploadFiles,\n",
              "  _uploadFilesContinue,\n",
              "};\n",
              "})(self);\n",
              "</script> "
            ]
          },
          "metadata": {}
        },
        {
          "output_type": "stream",
          "name": "stdout",
          "text": [
            "Saving in.png to in (3).png\n"
          ]
        }
      ]
    },
    {
      "cell_type": "code",
      "source": [
        "uploaded_file_name=list(uploaded.keys())[0]\n",
        "uploaded_file=uploaded[uploaded_file_name]\n"
      ],
      "metadata": {
        "id": "oJDVdLhP6SLL"
      },
      "execution_count": 126,
      "outputs": []
    },
    {
      "cell_type": "code",
      "source": [
        "text=ocr_image(uploaded_file)\n"
      ],
      "metadata": {
        "id": "KmqpnSGl60eL"
      },
      "execution_count": 127,
      "outputs": []
    },
    {
      "cell_type": "markdown",
      "source": [
        "To extract user name"
      ],
      "metadata": {
        "id": "h9A_HSuIVW_u"
      }
    },
    {
      "cell_type": "code",
      "source": [
        "def find_user_name(text):\n",
        "  doc=nlp(text)\n",
        "\n",
        "\n",
        "  user_name_patterns=[\n",
        "              r'\\bName\\s*[:\\-]?\\s*([A-Z][a-zA-Z\\s]+)\\b',       # Captures Name: John Doe\n",
        "        r'\\bFull\\s*Name\\s*[:\\-]?\\s*([A-Z][a-zA-Z\\s]+)\\b',     # Captures Full Name: Jane Smith\n",
        "        r'\\bCustomer\\s*Name\\s*[:\\-]?\\s*([A-Z][a-zA-Z\\s]+)\\b', # Captures Customer Name: Alice Johnson\n",
        "        r'\\bClient\\s*Name\\s*[:\\-]?\\s*([A-Z][a-zA-Z\\s]+)\\b',   # Captures Client Name: Bob Brown\n",
        "        r'\\bContact\\s*Name\\s*[:\\-]?\\s*([A-Z][a-zA-Z\\s]+)\\b',  # Captures Contact Name: Mary Davis\n",
        "        r'\\b(?:Mr|Ms|Mrs|Dr)\\s*([A-Z][a-zA-Z\\s]+)\\b'\n",
        "  ]\n",
        "\n",
        "  for name in user_name_patterns:\n",
        "    match=re.search(name,text,re.IGNORECASE)\n",
        "    if match:\n",
        "      return match.group(1)\n",
        "\n",
        "    for ent in doc.ents:\n",
        "        if ent.label_ in ['PERSON']:\n",
        "            return ent.text.strip()\n",
        "\n",
        "\n",
        "\n",
        "\n",
        "\n"
      ],
      "metadata": {
        "id": "nMhYNuZ67JZW"
      },
      "execution_count": 165,
      "outputs": []
    },
    {
      "cell_type": "markdown",
      "source": [
        "TO extract the company name"
      ],
      "metadata": {
        "id": "Z6QIBNkAVrDQ"
      }
    },
    {
      "cell_type": "code",
      "source": [
        "def find_company_name(text):\n",
        "  doc=nlp(text)\n",
        "\n",
        "  company_name_patterns=[\n",
        "            r'\\bCompany\\s*Name\\s*[:\\-]?\\s*([A-Za-z0-9\\s&\\'\\-\\(\\)]+)\\b',\n",
        "        r'\\b(?:Inc|Ltd|LLC|Corporation|Co|Corp|Limited)\\b\\s*([A-Za-z0-9\\s&\\'\\-\\(\\)]+)',\n",
        "        r'\\b(?:Company|Business|Firm|Enterprise)\\s*[:\\-]?\\s*([A-Z][a-zA-Z\\s]+)\\b',\n",
        "        r'\\b(?:The|A|An)\\s*([A-Z][a-zA-Z\\s]+)\\s*(?:Inc|Ltd|LLC|Corp|Company|Co|Corporation)\\b',\n",
        "        r'\\b([A-Z][a-zA-Z\\s]+)\\s*(?:LLC|Inc|Ltd|Corp|Co|Corporation)\\b'\n",
        "  ]\n",
        "\n",
        "  for ent in doc.ents:\n",
        "    if ent.label_ ==\"ORG\":\n",
        "      return ent.text.strip()\n",
        "\n"
      ],
      "metadata": {
        "id": "a15w9-FlOPVm"
      },
      "execution_count": 175,
      "outputs": []
    },
    {
      "cell_type": "markdown",
      "source": [
        "User Location\n"
      ],
      "metadata": {
        "id": "oSFIu2AEYSV1"
      }
    },
    {
      "cell_type": "code",
      "source": [
        "def find_user_location(text):\n",
        "  doc=nlp(text)\n",
        "\n",
        "  location_patterns=[\n",
        "       r'\\b(?:City|Town|State|Province|Region)\\s*[:\\-]?\\s*([A-Z][a-zA-Z\\s]+)\\b',\n",
        "        r'\\b(?:NY|CA|TX|FL|IL|PA|MA|OH|MI|GA)\\b',\n",
        "        r'\\b(?:Mount|Mountain|River|Lake|Ocean)\\s*([A-Z][a-zA-Z\\s]+)\\b',\n",
        "        r'\\b(?:[A-Z][a-zA-Z\\s]+)\\s*(?:County|District|Region|Province|State|City|Town)\\b',\n",
        "        r'\\b(?:Near|Around|In|At)\\s*([A-Z][a-zA-Z\\s]+)\\b'\n",
        "\n",
        "  ]\n",
        "\n",
        "  for ent in doc.ents:\n",
        "    if ent.label_ == 'GPE':\n",
        "        return ent.text.strip()"
      ],
      "metadata": {
        "id": "1r_wvVUCSzQf"
      },
      "execution_count": 182,
      "outputs": []
    },
    {
      "cell_type": "markdown",
      "source": [
        "Calling functions"
      ],
      "metadata": {
        "id": "TR6r5FZLa92J"
      }
    },
    {
      "cell_type": "code",
      "source": [
        "invoice_number=find_invoice_number(text)\n",
        "total_bill=find_total_bill(text)\n",
        "user_name=find_user_name(text)\n",
        "company_name=find_company_name(text)\n",
        "location_name=find_user_location(text)\n",
        "print(f\"Extracted Invoice Number: {invoice_number}\")\n",
        "print(f\"Extracted total Bill Cost:{total_bill}\")\n",
        "print(f\"Extracted user name : {user_name }\")\n",
        "print(f\"Extracted company name :{company_name}\")\n",
        "print(f\"Extracted user location :{location_name}\")"
      ],
      "metadata": {
        "colab": {
          "base_uri": "https://localhost:8080/"
        },
        "id": "B5l-zRMZXdSZ",
        "outputId": "0bccc17c-2d4e-4811-e113-ad0bc58b200c"
      },
      "execution_count": 189,
      "outputs": [
        {
          "output_type": "stream",
          "name": "stdout",
          "text": [
            "Extracted Invoice Number: 1912\n",
            "Extracted total Bill Cost:154.06\n",
            "Extracted user name : John Smith\n",
            "Extracted company name :East Repair Inc.\n",
            "Extracted user location :New York\n"
          ]
        }
      ]
    },
    {
      "cell_type": "code",
      "source": [],
      "metadata": {
        "id": "3NZKUR9QYKl_"
      },
      "execution_count": null,
      "outputs": []
    }
  ]
}